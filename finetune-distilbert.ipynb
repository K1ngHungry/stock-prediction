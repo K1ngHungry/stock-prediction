{
 "cells": [
  {
   "cell_type": "code",
   "execution_count": 1,
   "id": "cb8b1658",
   "metadata": {},
   "outputs": [
    {
     "name": "stderr",
     "output_type": "stream",
     "text": [
      "c:\\Users\\kevin\\AppData\\Local\\Programs\\Python\\Python310\\lib\\site-packages\\tqdm\\auto.py:21: TqdmWarning: IProgress not found. Please update jupyter and ipywidgets. See https://ipywidgets.readthedocs.io/en/stable/user_install.html\n",
      "  from .autonotebook import tqdm as notebook_tqdm\n"
     ]
    }
   ],
   "source": [
    "import torch\n",
    "import os\n",
    "import pandas as pd\n",
    "from transformers import AutoTokenizer, AutoModelForSequenceClassification, pipeline\n",
    "from transformers import Trainer, TrainingArguments, DataCollatorWithPadding\n",
    "from sklearn.model_selection import train_test_split\n",
    "from sklearn.metrics import classification_report\n",
    "from datasets import Dataset\n",
    "import accelerate"
   ]
  },
  {
   "cell_type": "code",
   "execution_count": 2,
   "id": "21deca31",
   "metadata": {},
   "outputs": [
    {
     "name": "stdout",
     "output_type": "stream",
     "text": [
      "Using GPU: NVIDIA GeForce RTX 3070 Laptop GPU\n"
     ]
    }
   ],
   "source": [
    "def get_device():\n",
    "    if torch.cuda.is_available():\n",
    "        print(\"Using GPU:\", torch.cuda.get_device_name(0))\n",
    "        return 0\n",
    "    else:\n",
    "        print(\"Using CPU\")\n",
    "        return -1 \n",
    "\n",
    "device = get_device()"
   ]
  },
  {
   "cell_type": "code",
   "execution_count": 3,
   "id": "b2828c79",
   "metadata": {},
   "outputs": [
    {
     "name": "stderr",
     "output_type": "stream",
     "text": [
      "Some weights of DistilBertForSequenceClassification were not initialized from the model checkpoint at distilbert-base-uncased and are newly initialized: ['classifier.bias', 'classifier.weight', 'pre_classifier.bias', 'pre_classifier.weight']\n",
      "You should probably TRAIN this model on a down-stream task to be able to use it for predictions and inference.\n",
      "Device set to use cuda:0\n"
     ]
    }
   ],
   "source": [
    "model_path = \"distilbert-base-uncased\"\n",
    "\n",
    "tokenizer = AutoTokenizer.from_pretrained(model_path)\n",
    "\n",
    "id2label = {0: \"NEGATIVE\", 1: \"NEUTRAL\", 2: \"POSITIVE\"}\n",
    "label2id = {\"NEGATIVE\": 0, \"NEUTRAL\": 1, \"POSITIVE\": 2}\n",
    "model = AutoModelForSequenceClassification.from_pretrained(\n",
    "    model_path,\n",
    "    num_labels=3,\n",
    "    id2label=id2label,\n",
    "    label2id=label2id,\n",
    ")\n",
    "\n",
    "\n",
    "classifier = pipeline(\n",
    "    task=\"sentiment-analysis\",\n",
    "    model=model,\n",
    "    tokenizer=tokenizer, \n",
    "    device=device,\n",
    ")"
   ]
  },
  {
   "cell_type": "code",
   "execution_count": null,
   "id": "e7be6423",
   "metadata": {},
   "outputs": [],
   "source": []
  },
  {
   "cell_type": "code",
   "execution_count": 4,
   "id": "1f8cba86",
   "metadata": {},
   "outputs": [],
   "source": [
    "DATASET_PATH = \"sentiment.csv\"\n",
    "\n",
    "df = pd.read_csv(DATASET_PATH)\n",
    "\n",
    "# 2) Drop NA / short texts\n",
    "df = df[[\"text\", \"label\"]].dropna()\n",
    "df = df[df[\"text\"].astype(str).str.strip().str.len() > 3].copy()\n",
    "\n",
    "# 3) Map labels\n",
    "label_mapping = {-1: 0, 0: 1, 1: 2}\n",
    "df[\"label\"] = df[\"label\"].map(label_mapping)\n",
    "\n",
    "train_df, test_df = train_test_split(df, test_size=0.2, random_state=42)\n",
    "\n",
    "train_dataset = Dataset.from_pandas(train_df)\n",
    "test_dataset = Dataset.from_pandas(test_df)\n"
   ]
  },
  {
   "cell_type": "code",
   "execution_count": 5,
   "id": "ef2ee8e6",
   "metadata": {},
   "outputs": [
    {
     "name": "stderr",
     "output_type": "stream",
     "text": [
      "You seem to be using the pipelines sequentially on GPU. In order to maximize efficiency please use a dataset\n"
     ]
    },
    {
     "name": "stdout",
     "output_type": "stream",
     "text": [
      "              precision    recall  f1-score   support\n",
      "\n",
      "         NEG       0.12      0.98      0.21       115\n",
      "         NEU       0.25      0.00      0.00       569\n",
      "         POS       0.00      0.00      0.00       285\n",
      "\n",
      "    accuracy                           0.12       969\n",
      "   macro avg       0.12      0.33      0.07       969\n",
      "weighted avg       0.16      0.12      0.03       969\n",
      "\n"
     ]
    }
   ],
   "source": [
    "from sklearn.metrics import accuracy_score, f1_score, classification_report\n",
    "\n",
    "batch_size = 32\n",
    "all_preds = []\n",
    "\n",
    "# Use test dataset for evaluation\n",
    "texts = test_df[\"text\"].tolist()\n",
    "y_true = test_df[\"label\"].tolist()\n",
    "\n",
    "for i in range(0, len(texts), batch_size):\n",
    "    batch = texts[i:i+batch_size]\n",
    "    preds = classifier(batch)  # pretrained model pipeline\n",
    "    all_preds.extend(preds)\n",
    "\n",
    "# Convert Hugging Face labels (\"POSITIVE\", etc.) to integers\n",
    "label_str_to_id = {\"NEGATIVE\": 0, \"NEUTRAL\": 1, \"POSITIVE\": 2}\n",
    "y_pred = [label_str_to_id[p[\"label\"]] for p in all_preds]\n",
    "\n",
    "# Evaluate\n",
    "print(classification_report(y_true, y_pred, target_names=[\"NEG\", \"NEU\", \"POS\"]))"
   ]
  },
  {
   "cell_type": "code",
   "execution_count": 6,
   "id": "950ba282",
   "metadata": {},
   "outputs": [
    {
     "name": "stdout",
     "output_type": "stream",
     "text": [
      "pre_classifier.weight torch.Size([768, 768])\n",
      "pre_classifier.bias torch.Size([768])\n",
      "classifier.weight torch.Size([3, 768])\n",
      "classifier.bias torch.Size([3])\n"
     ]
    }
   ],
   "source": [
    "for name, param in model.named_parameters():\n",
    "    param.requires_grad = False\n",
    "\n",
    "for name, param in model.named_parameters():\n",
    "    if \"classifier\" in name:\n",
    "        param.requires_grad = True\n",
    "\n",
    "for name, param in model.named_parameters():\n",
    "    if \"classifier\" in name:\n",
    "        print(name, param.shape)\n",
    "\n",
    "for i in [-2, -1]:  # second-to-last and last layer\n",
    "    for param in model.distilbert.transformer.layer[i].parameters():\n",
    "        param.requires_grad = True\n",
    "\n",
    "\n",
    "model.classifier.weight.data = torch.randn_like(model.classifier.weight.data)\n",
    "model.classifier.bias.data = torch.randn_like(model.classifier.bias.data)"
   ]
  },
  {
   "cell_type": "code",
   "execution_count": 7,
   "id": "a288e1b2",
   "metadata": {},
   "outputs": [
    {
     "name": "stderr",
     "output_type": "stream",
     "text": [
      "Map: 100%|██████████| 3872/3872 [00:00<00:00, 14283.20 examples/s]\n",
      "Map: 100%|██████████| 969/969 [00:00<00:00, 12531.51 examples/s]\n"
     ]
    }
   ],
   "source": [
    "def preprocess_data(data):\n",
    "    return tokenizer(data[\"text\"], padding=True, truncation=True)\n",
    "\n",
    "# Then tokenize separately\n",
    "train_dataset = train_dataset.map(preprocess_data, batched=True)\n",
    "test_dataset = test_dataset.map(preprocess_data, batched=True)"
   ]
  },
  {
   "cell_type": "code",
   "execution_count": 8,
   "id": "0e64ddfe",
   "metadata": {},
   "outputs": [],
   "source": [
    "data_collator = DataCollatorWithPadding(tokenizer)"
   ]
  },
  {
   "cell_type": "code",
   "execution_count": 9,
   "id": "f65c59bf",
   "metadata": {},
   "outputs": [],
   "source": [
    "\n",
    "def compute_metrics(eval_pred):\n",
    "    \"\"\"\n",
    "    Hugging Face Trainer metrics function.\n",
    "    eval_pred: a tuple (logits, labels)\n",
    "    \"\"\"\n",
    "    logits, labels = eval_pred\n",
    "    # Get predicted class indices\n",
    "    preds = logits.argmax(axis=-1)\n",
    "\n",
    "    # Compute basic metrics\n",
    "    acc = accuracy_score(labels, preds)\n",
    "    macro_f1 = f1_score(labels, preds, average=\"macro\")\n",
    "\n",
    "    # print(\"\\nClassification Report:\\n\")\n",
    "    # print(classification_report(labels, preds, target_names=[\"NEG\", \"NEU\", \"POS\"]))\n",
    "\n",
    "    return {\n",
    "        \"accuracy\": acc,\n",
    "        \"f1\": macro_f1\n",
    "    }"
   ]
  },
  {
   "cell_type": "code",
   "execution_count": 10,
   "id": "45b54cf5",
   "metadata": {},
   "outputs": [],
   "source": [
    "lr = 2e-4\n",
    "batch_size = 32\n",
    "num_epochs = 5\n",
    "\n",
    "training_args = TrainingArguments(\n",
    "    output_dir='./distilbert_finetuned',\n",
    "    learning_rate=lr,\n",
    "    per_device_train_batch_size=batch_size,\n",
    "    per_device_eval_batch_size=batch_size,\n",
    "    num_train_epochs=num_epochs,\n",
    "    logging_strategy=\"epoch\",\n",
    "    eval_strategy=\"epoch\",\n",
    "    save_strategy=\"epoch\",\n",
    "    load_best_model_at_end=True,\n",
    "    weight_decay=0.01,\n",
    "    report_to=[]\n",
    ")"
   ]
  },
  {
   "cell_type": "code",
   "execution_count": 11,
   "id": "c3d6ea6f",
   "metadata": {},
   "outputs": [
    {
     "name": "stderr",
     "output_type": "stream",
     "text": [
      "C:\\Users\\kevin\\AppData\\Local\\Temp\\ipykernel_23112\\2474207646.py:1: FutureWarning: `tokenizer` is deprecated and will be removed in version 5.0.0 for `Trainer.__init__`. Use `processing_class` instead.\n",
      "  trainer = Trainer(\n"
     ]
    },
    {
     "data": {
      "text/html": [
       "\n",
       "    <div>\n",
       "      \n",
       "      <progress value='605' max='605' style='width:300px; height:20px; vertical-align: middle;'></progress>\n",
       "      [605/605 00:57, Epoch 5/5]\n",
       "    </div>\n",
       "    <table border=\"1\" class=\"dataframe\">\n",
       "  <thead>\n",
       " <tr style=\"text-align: left;\">\n",
       "      <th>Epoch</th>\n",
       "      <th>Training Loss</th>\n",
       "      <th>Validation Loss</th>\n",
       "      <th>Accuracy</th>\n",
       "      <th>F1</th>\n",
       "    </tr>\n",
       "  </thead>\n",
       "  <tbody>\n",
       "    <tr>\n",
       "      <td>1</td>\n",
       "      <td>1.631900</td>\n",
       "      <td>0.772553</td>\n",
       "      <td>0.767802</td>\n",
       "      <td>0.723612</td>\n",
       "    </tr>\n",
       "    <tr>\n",
       "      <td>2</td>\n",
       "      <td>0.699400</td>\n",
       "      <td>0.621853</td>\n",
       "      <td>0.791538</td>\n",
       "      <td>0.746745</td>\n",
       "    </tr>\n",
       "    <tr>\n",
       "      <td>3</td>\n",
       "      <td>0.467200</td>\n",
       "      <td>0.515518</td>\n",
       "      <td>0.793602</td>\n",
       "      <td>0.758682</td>\n",
       "    </tr>\n",
       "    <tr>\n",
       "      <td>4</td>\n",
       "      <td>0.345400</td>\n",
       "      <td>0.588529</td>\n",
       "      <td>0.803922</td>\n",
       "      <td>0.769994</td>\n",
       "    </tr>\n",
       "    <tr>\n",
       "      <td>5</td>\n",
       "      <td>0.220700</td>\n",
       "      <td>0.716918</td>\n",
       "      <td>0.798762</td>\n",
       "      <td>0.770358</td>\n",
       "    </tr>\n",
       "  </tbody>\n",
       "</table><p>"
      ],
      "text/plain": [
       "<IPython.core.display.HTML object>"
      ]
     },
     "metadata": {},
     "output_type": "display_data"
    },
    {
     "data": {
      "text/plain": [
       "TrainOutput(global_step=605, training_loss=0.6729042841383248, metrics={'train_runtime': 57.4576, 'train_samples_per_second': 336.944, 'train_steps_per_second': 10.529, 'total_flos': 495892271033280.0, 'train_loss': 0.6729042841383248, 'epoch': 5.0})"
      ]
     },
     "execution_count": 11,
     "metadata": {},
     "output_type": "execute_result"
    }
   ],
   "source": [
    "trainer = Trainer(\n",
    "    model=model,\n",
    "    args=training_args,\n",
    "    train_dataset=train_dataset,\n",
    "    eval_dataset=test_dataset,\n",
    "    tokenizer=tokenizer,\n",
    "    data_collator=data_collator,\n",
    "    compute_metrics=compute_metrics,\n",
    ")\n",
    "\n",
    "# 8) Train\n",
    "trainer.train()"
   ]
  },
  {
   "cell_type": "code",
   "execution_count": 12,
   "id": "074ee2f5",
   "metadata": {},
   "outputs": [
    {
     "data": {
      "text/html": [],
      "text/plain": [
       "<IPython.core.display.HTML object>"
      ]
     },
     "metadata": {},
     "output_type": "display_data"
    },
    {
     "name": "stdout",
     "output_type": "stream",
     "text": [
      "\n",
      "Validation metrics: {'eval_loss': 0.5155175924301147, 'eval_accuracy': 0.7936016511867905, 'eval_f1': 0.7586821488265652, 'eval_runtime': 1.6262, 'eval_samples_per_second': 595.881, 'eval_steps_per_second': 19.063, 'epoch': 5.0}\n",
      "\n",
      "Detailed classification report on test set:\n",
      "              precision    recall  f1-score   support\n",
      "\n",
      "         NEG       0.71      0.71      0.71       115\n",
      "         NEU       0.86      0.84      0.85       569\n",
      "         POS       0.70      0.73      0.72       285\n",
      "\n",
      "    accuracy                           0.79       969\n",
      "   macro avg       0.76      0.76      0.76       969\n",
      "weighted avg       0.80      0.79      0.79       969\n",
      "\n"
     ]
    }
   ],
   "source": [
    "# %% Evaluate on the test dataset\n",
    "# This will compute metrics using your compute_metrics function\n",
    "metrics = trainer.evaluate(eval_dataset=test_dataset)\n",
    "print(\"\\nValidation metrics:\", metrics)\n",
    "\n",
    "# Detailed classification report\n",
    "predictions_output = trainer.predict(test_dataset)\n",
    "logits = predictions_output.predictions\n",
    "y_true = predictions_output.label_ids\n",
    "y_pred = logits.argmax(axis=-1)\n",
    "\n",
    "print(\"\\nDetailed classification report on test set:\")\n",
    "print(classification_report(y_true, y_pred, target_names=[\"NEG\", \"NEU\", \"POS\"]))"
   ]
  },
  {
   "cell_type": "code",
   "execution_count": 13,
   "id": "9c4d6d93",
   "metadata": {},
   "outputs": [],
   "source": [
    "# # 10) Save fine-tuned model and tokenizer\n",
    "# output_dir = './distilbert_finetuned'\n",
    "\n",
    "# trainer.save_model(output_dir)\n",
    "# tokenizer.save_pretrained(output_dir)\n",
    "\n",
    "# print(f\"\\nSaved fine-tuned model to: {output_dir}\")"
   ]
  }
 ],
 "metadata": {
  "kernelspec": {
   "display_name": "Python 3",
   "language": "python",
   "name": "python3"
  },
  "language_info": {
   "codemirror_mode": {
    "name": "ipython",
    "version": 3
   },
   "file_extension": ".py",
   "mimetype": "text/x-python",
   "name": "python",
   "nbconvert_exporter": "python",
   "pygments_lexer": "ipython3",
   "version": "3.10.5"
  }
 },
 "nbformat": 4,
 "nbformat_minor": 5
}
