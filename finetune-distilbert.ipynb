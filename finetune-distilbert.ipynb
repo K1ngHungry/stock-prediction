{
 "cells": [
  {
   "cell_type": "code",
   "execution_count": 25,
   "id": "cb8b1658",
   "metadata": {},
   "outputs": [],
   "source": [
    "import os\n",
    "import torch\n",
    "from transformers import AutoTokenizer, AutoModelForSequenceClassification, pipeline"
   ]
  },
  {
   "cell_type": "code",
   "execution_count": 26,
   "id": "21deca31",
   "metadata": {},
   "outputs": [
    {
     "name": "stdout",
     "output_type": "stream",
     "text": [
      "Using device: cpu\n"
     ]
    }
   ],
   "source": [
    "def get_device():\n",
    "    if torch.cuda.is_available():\n",
    "        return torch.device(\"cuda\")\n",
    "    return torch.device(\"cpu\")\n",
    "\n",
    "device = get_device()\n",
    "print(\"Using device:\", device)"
   ]
  },
  {
   "cell_type": "code",
   "execution_count": 82,
   "id": "b2828c79",
   "metadata": {},
   "outputs": [
    {
     "name": "stderr",
     "output_type": "stream",
     "text": [
      "Some weights of DistilBertForSequenceClassification were not initialized from the model checkpoint at distilbert-base-uncased and are newly initialized: ['classifier.bias', 'classifier.weight', 'pre_classifier.bias', 'pre_classifier.weight']\n",
      "You should probably TRAIN this model on a down-stream task to be able to use it for predictions and inference.\n",
      "Device set to use cpu\n"
     ]
    }
   ],
   "source": [
    "model_path = \"distilbert-base-uncased\"\n",
    "\n",
    "tokenizer = AutoTokenizer.from_pretrained(model_path)\n",
    "\n",
    "id2label = {0: \"NEGATIVE\", 1: \"NEUTRAL\", 2: \"POSITIVE\"}\n",
    "label2id = {\"NEGATIVE\": 0, \"NEUTRAL\": 1, \"POSITIVE\": 2}\n",
    "model = AutoModelForSequenceClassification.from_pretrained(\n",
    "    model_path,\n",
    "    num_labels=3,\n",
    "    id2label=id2label,\n",
    "    label2id=label2id,\n",
    ")\n",
    "\n",
    "\n",
    "classifier = pipeline(\n",
    "    task=\"sentiment-analysis\",\n",
    "    model=model,\n",
    "    tokenizer=tokenizer, \n",
    "    device=-1,\n",
    ")"
   ]
  },
  {
   "cell_type": "code",
   "execution_count": null,
   "id": "e7be6423",
   "metadata": {},
   "outputs": [],
   "source": []
  },
  {
   "cell_type": "code",
   "execution_count": 83,
   "id": "1f8cba86",
   "metadata": {},
   "outputs": [],
   "source": [
    "# Fine-tune DistilBERT on FineTunned_dataset without changing previous cells\n",
    "import os\n",
    "import pandas as pd\n",
    "import numpy as np\n",
    "import torch\n",
    "from sklearn.model_selection import train_test_split\n",
    "from sklearn.metrics import accuracy_score, f1_score, classification_report\n",
    "from transformers import Trainer, TrainingArguments, DataCollatorWithPadding\n",
    "from datasets import DatasetDict, Dataset\n",
    "\n",
    "DATASET_PATH = \"sentiment.csv\"\n",
    "\n",
    "df = pd.read_csv(DATASET_PATH)\n",
    "\n",
    "# 2) Drop NA / short texts\n",
    "df = df[[\"text\", \"label\"]].dropna()\n",
    "df = df[df[\"text\"].astype(str).str.strip().str.len() > 3].copy()\n",
    "\n",
    "# 3) Map labels\n",
    "label_mapping = {-1: 0, 0: 1, 1: 2}\n",
    "df[\"label\"] = df[\"label\"].map(label_mapping)\n",
    "\n",
    "train_df, test_df = train_test_split(df, test_size=0.2, random_state=42)\n",
    "\n",
    "train_dataset = Dataset.from_pandas(train_df)\n",
    "test_dataset = Dataset.from_pandas(test_df)\n"
   ]
  },
  {
   "cell_type": "code",
   "execution_count": 84,
   "id": "ef2ee8e6",
   "metadata": {},
   "outputs": [
    {
     "name": "stdout",
     "output_type": "stream",
     "text": [
      "Accuracy: 0.11867905056759546\n",
      "Macro F1: 0.07072570725707257\n",
      "              precision    recall  f1-score   support\n",
      "\n",
      "         NEG       0.12      1.00      0.21       115\n",
      "         NEU       0.00      0.00      0.00       569\n",
      "         POS       0.00      0.00      0.00       285\n",
      "\n",
      "    accuracy                           0.12       969\n",
      "   macro avg       0.04      0.33      0.07       969\n",
      "weighted avg       0.01      0.12      0.03       969\n",
      "\n"
     ]
    },
    {
     "name": "stderr",
     "output_type": "stream",
     "text": [
      "/Users/kevin/Library/Python/3.9/lib/python/site-packages/sklearn/metrics/_classification.py:1565: UndefinedMetricWarning: Precision is ill-defined and being set to 0.0 in labels with no predicted samples. Use `zero_division` parameter to control this behavior.\n",
      "  _warn_prf(average, modifier, f\"{metric.capitalize()} is\", len(result))\n",
      "/Users/kevin/Library/Python/3.9/lib/python/site-packages/sklearn/metrics/_classification.py:1565: UndefinedMetricWarning: Precision is ill-defined and being set to 0.0 in labels with no predicted samples. Use `zero_division` parameter to control this behavior.\n",
      "  _warn_prf(average, modifier, f\"{metric.capitalize()} is\", len(result))\n",
      "/Users/kevin/Library/Python/3.9/lib/python/site-packages/sklearn/metrics/_classification.py:1565: UndefinedMetricWarning: Precision is ill-defined and being set to 0.0 in labels with no predicted samples. Use `zero_division` parameter to control this behavior.\n",
      "  _warn_prf(average, modifier, f\"{metric.capitalize()} is\", len(result))\n"
     ]
    }
   ],
   "source": [
    "from sklearn.metrics import accuracy_score, f1_score, classification_report\n",
    "\n",
    "batch_size = 32\n",
    "all_preds = []\n",
    "\n",
    "# Use test dataset for evaluation\n",
    "texts = test_df[\"text\"].tolist()\n",
    "y_true = test_df[\"label\"].tolist()\n",
    "\n",
    "for i in range(0, len(texts), batch_size):\n",
    "    batch = texts[i:i+batch_size]\n",
    "    preds = classifier(batch)  # pretrained model pipeline\n",
    "    all_preds.extend(preds)\n",
    "\n",
    "# Convert Hugging Face labels (\"POSITIVE\", etc.) to integers\n",
    "label_str_to_id = {\"NEGATIVE\": 0, \"NEUTRAL\": 1, \"POSITIVE\": 2}\n",
    "y_pred = [label_str_to_id[p[\"label\"]] for p in all_preds]\n",
    "\n",
    "# Evaluate\n",
    "print(\"Accuracy:\", accuracy_score(y_true, y_pred))\n",
    "print(\"Macro F1:\", f1_score(y_true, y_pred, average=\"macro\"))\n",
    "print(classification_report(y_true, y_pred, target_names=[\"NEG\", \"NEU\", \"POS\"]))"
   ]
  },
  {
   "cell_type": "code",
   "execution_count": 85,
   "id": "950ba282",
   "metadata": {},
   "outputs": [
    {
     "name": "stdout",
     "output_type": "stream",
     "text": [
      "pre_classifier.weight torch.Size([768, 768])\n",
      "pre_classifier.bias torch.Size([768])\n",
      "classifier.weight torch.Size([3, 768])\n",
      "classifier.bias torch.Size([3])\n"
     ]
    }
   ],
   "source": [
    "for name, param in model.named_parameters():\n",
    "    param.requires_grad = False\n",
    "\n",
    "for name, param in model.named_parameters():\n",
    "    if \"classifier\" in name:\n",
    "        param.requires_grad = True\n",
    "\n",
    "for name, param in model.named_parameters():\n",
    "    if \"classifier\" in name:\n",
    "        print(name, param.shape)\n",
    "\n",
    "for i in [-2, -1]:  # second-to-last and last layer\n",
    "    for param in model.distilbert.transformer.layer[i].parameters():\n",
    "        param.requires_grad = True\n",
    "\n",
    "\n",
    "model.classifier.weight.data = torch.randn_like(model.classifier.weight.data)\n",
    "model.classifier.bias.data = torch.randn_like(model.classifier.bias.data)"
   ]
  },
  {
   "cell_type": "code",
   "execution_count": 86,
   "id": "a288e1b2",
   "metadata": {},
   "outputs": [
    {
     "name": "stderr",
     "output_type": "stream",
     "text": [
      "Map: 100%|██████████| 3872/3872 [00:00<00:00, 10543.77 examples/s]\n",
      "Map: 100%|██████████| 969/969 [00:00<00:00, 9954.18 examples/s]\n"
     ]
    }
   ],
   "source": [
    "def preprocess_data(data):\n",
    "    return tokenizer(data[\"text\"], padding=True, truncation=True)\n",
    "\n",
    "# Then tokenize separately\n",
    "train_dataset = train_dataset.map(preprocess_data, batched=True)\n",
    "test_dataset = test_dataset.map(preprocess_data, batched=True)"
   ]
  },
  {
   "cell_type": "code",
   "execution_count": 87,
   "id": "0e64ddfe",
   "metadata": {},
   "outputs": [],
   "source": [
    "data_collator = DataCollatorWithPadding(tokenizer)"
   ]
  },
  {
   "cell_type": "code",
   "execution_count": 88,
   "id": "f65c59bf",
   "metadata": {},
   "outputs": [],
   "source": [
    "\n",
    "def compute_metrics(eval_pred):\n",
    "    \"\"\"\n",
    "    Hugging Face Trainer metrics function.\n",
    "    eval_pred: a tuple (logits, labels)\n",
    "    \"\"\"\n",
    "    logits, labels = eval_pred\n",
    "    # Get predicted class indices\n",
    "    preds = logits.argmax(axis=-1)\n",
    "\n",
    "    # Compute basic metrics\n",
    "    acc = accuracy_score(labels, preds)\n",
    "    macro_f1 = f1_score(labels, preds, average=\"macro\")\n",
    "\n",
    "    # print(\"\\nClassification Report:\\n\")\n",
    "    # print(classification_report(labels, preds, target_names=[\"NEG\", \"NEU\", \"POS\"]))\n",
    "\n",
    "    return {\n",
    "        \"accuracy\": acc,\n",
    "        \"f1\": macro_f1\n",
    "    }"
   ]
  },
  {
   "cell_type": "code",
   "execution_count": 89,
   "id": "c037f161",
   "metadata": {},
   "outputs": [
    {
     "name": "stdout",
     "output_type": "stream",
     "text": [
      "1.10.0\n"
     ]
    }
   ],
   "source": [
    "import accelerate\n",
    "print(accelerate.__version__)"
   ]
  },
  {
   "cell_type": "code",
   "execution_count": 90,
   "id": "45b54cf5",
   "metadata": {},
   "outputs": [],
   "source": [
    "lr = 2e-4\n",
    "batch_size = 32\n",
    "num_epochs = 10\n",
    "\n",
    "training_args = TrainingArguments(\n",
    "    output_dir='./distilbert_finetuned',\n",
    "    learning_rate=lr,\n",
    "    per_device_train_batch_size=batch_size,\n",
    "    per_device_eval_batch_size=batch_size,\n",
    "    num_train_epochs=num_epochs,\n",
    "    logging_strategy=\"epoch\",\n",
    "    eval_strategy=\"epoch\",\n",
    "    save_strategy=\"epoch\",\n",
    "    load_best_model_at_end=True,\n",
    ")"
   ]
  },
  {
   "cell_type": "code",
   "execution_count": 91,
   "id": "c3d6ea6f",
   "metadata": {},
   "outputs": [
    {
     "name": "stderr",
     "output_type": "stream",
     "text": [
      "/var/folders/90/sv638z997f75b9bcklhmt5xc0000gn/T/ipykernel_43582/2474207646.py:1: FutureWarning: `tokenizer` is deprecated and will be removed in version 5.0.0 for `Trainer.__init__`. Use `processing_class` instead.\n",
      "  trainer = Trainer(\n",
      "/Users/kevin/Library/Python/3.9/lib/python/site-packages/torch/utils/data/dataloader.py:684: UserWarning: 'pin_memory' argument is set as true but not supported on MPS now, then device pinned memory won't be used.\n",
      "  warnings.warn(warn_msg)\n"
     ]
    },
    {
     "data": {
      "text/html": [
       "\n",
       "    <div>\n",
       "      \n",
       "      <progress value='1210' max='1210' style='width:300px; height:20px; vertical-align: middle;'></progress>\n",
       "      [1210/1210 08:07, Epoch 10/10]\n",
       "    </div>\n",
       "    <table border=\"1\" class=\"dataframe\">\n",
       "  <thead>\n",
       " <tr style=\"text-align: left;\">\n",
       "      <th>Epoch</th>\n",
       "      <th>Training Loss</th>\n",
       "      <th>Validation Loss</th>\n",
       "      <th>Accuracy</th>\n",
       "      <th>F1</th>\n",
       "    </tr>\n",
       "  </thead>\n",
       "  <tbody>\n",
       "    <tr>\n",
       "      <td>1</td>\n",
       "      <td>1.692000</td>\n",
       "      <td>0.720578</td>\n",
       "      <td>0.764706</td>\n",
       "      <td>0.722787</td>\n",
       "    </tr>\n",
       "    <tr>\n",
       "      <td>2</td>\n",
       "      <td>0.778700</td>\n",
       "      <td>0.733421</td>\n",
       "      <td>0.760578</td>\n",
       "      <td>0.695039</td>\n",
       "    </tr>\n",
       "    <tr>\n",
       "      <td>3</td>\n",
       "      <td>0.545400</td>\n",
       "      <td>0.565081</td>\n",
       "      <td>0.775026</td>\n",
       "      <td>0.739697</td>\n",
       "    </tr>\n",
       "    <tr>\n",
       "      <td>4</td>\n",
       "      <td>0.433800</td>\n",
       "      <td>0.652322</td>\n",
       "      <td>0.790506</td>\n",
       "      <td>0.747090</td>\n",
       "    </tr>\n",
       "    <tr>\n",
       "      <td>5</td>\n",
       "      <td>0.351000</td>\n",
       "      <td>0.600224</td>\n",
       "      <td>0.780186</td>\n",
       "      <td>0.737773</td>\n",
       "    </tr>\n",
       "    <tr>\n",
       "      <td>6</td>\n",
       "      <td>0.272400</td>\n",
       "      <td>0.714426</td>\n",
       "      <td>0.780186</td>\n",
       "      <td>0.745284</td>\n",
       "    </tr>\n",
       "    <tr>\n",
       "      <td>7</td>\n",
       "      <td>0.178300</td>\n",
       "      <td>0.828935</td>\n",
       "      <td>0.781218</td>\n",
       "      <td>0.741835</td>\n",
       "    </tr>\n",
       "    <tr>\n",
       "      <td>8</td>\n",
       "      <td>0.151900</td>\n",
       "      <td>1.058288</td>\n",
       "      <td>0.778122</td>\n",
       "      <td>0.744750</td>\n",
       "    </tr>\n",
       "    <tr>\n",
       "      <td>9</td>\n",
       "      <td>0.093400</td>\n",
       "      <td>1.441555</td>\n",
       "      <td>0.785346</td>\n",
       "      <td>0.750604</td>\n",
       "    </tr>\n",
       "    <tr>\n",
       "      <td>10</td>\n",
       "      <td>0.064300</td>\n",
       "      <td>1.552781</td>\n",
       "      <td>0.793602</td>\n",
       "      <td>0.757195</td>\n",
       "    </tr>\n",
       "  </tbody>\n",
       "</table><p>"
      ],
      "text/plain": [
       "<IPython.core.display.HTML object>"
      ]
     },
     "metadata": {},
     "output_type": "display_data"
    },
    {
     "name": "stderr",
     "output_type": "stream",
     "text": [
      "/Users/kevin/Library/Python/3.9/lib/python/site-packages/torch/utils/data/dataloader.py:684: UserWarning: 'pin_memory' argument is set as true but not supported on MPS now, then device pinned memory won't be used.\n",
      "  warnings.warn(warn_msg)\n",
      "/Users/kevin/Library/Python/3.9/lib/python/site-packages/torch/utils/data/dataloader.py:684: UserWarning: 'pin_memory' argument is set as true but not supported on MPS now, then device pinned memory won't be used.\n",
      "  warnings.warn(warn_msg)\n",
      "/Users/kevin/Library/Python/3.9/lib/python/site-packages/torch/utils/data/dataloader.py:684: UserWarning: 'pin_memory' argument is set as true but not supported on MPS now, then device pinned memory won't be used.\n",
      "  warnings.warn(warn_msg)\n",
      "/Users/kevin/Library/Python/3.9/lib/python/site-packages/torch/utils/data/dataloader.py:684: UserWarning: 'pin_memory' argument is set as true but not supported on MPS now, then device pinned memory won't be used.\n",
      "  warnings.warn(warn_msg)\n",
      "/Users/kevin/Library/Python/3.9/lib/python/site-packages/torch/utils/data/dataloader.py:684: UserWarning: 'pin_memory' argument is set as true but not supported on MPS now, then device pinned memory won't be used.\n",
      "  warnings.warn(warn_msg)\n",
      "/Users/kevin/Library/Python/3.9/lib/python/site-packages/torch/utils/data/dataloader.py:684: UserWarning: 'pin_memory' argument is set as true but not supported on MPS now, then device pinned memory won't be used.\n",
      "  warnings.warn(warn_msg)\n",
      "/Users/kevin/Library/Python/3.9/lib/python/site-packages/torch/utils/data/dataloader.py:684: UserWarning: 'pin_memory' argument is set as true but not supported on MPS now, then device pinned memory won't be used.\n",
      "  warnings.warn(warn_msg)\n",
      "/Users/kevin/Library/Python/3.9/lib/python/site-packages/torch/utils/data/dataloader.py:684: UserWarning: 'pin_memory' argument is set as true but not supported on MPS now, then device pinned memory won't be used.\n",
      "  warnings.warn(warn_msg)\n",
      "/Users/kevin/Library/Python/3.9/lib/python/site-packages/torch/utils/data/dataloader.py:684: UserWarning: 'pin_memory' argument is set as true but not supported on MPS now, then device pinned memory won't be used.\n",
      "  warnings.warn(warn_msg)\n"
     ]
    },
    {
     "data": {
      "text/plain": [
       "TrainOutput(global_step=1210, training_loss=0.45614109354570875, metrics={'train_runtime': 488.3214, 'train_samples_per_second': 79.292, 'train_steps_per_second': 2.478, 'total_flos': 991784542066560.0, 'train_loss': 0.45614109354570875, 'epoch': 10.0})"
      ]
     },
     "execution_count": 91,
     "metadata": {},
     "output_type": "execute_result"
    }
   ],
   "source": [
    "trainer = Trainer(\n",
    "    model=model,\n",
    "    args=training_args,\n",
    "    train_dataset=train_dataset,\n",
    "    eval_dataset=test_dataset,\n",
    "    tokenizer=tokenizer,\n",
    "    data_collator=data_collator,\n",
    "    compute_metrics=compute_metrics,\n",
    ")\n",
    "\n",
    "# 8) Train\n",
    "trainer.train()"
   ]
  },
  {
   "cell_type": "code",
   "execution_count": 92,
   "id": "074ee2f5",
   "metadata": {},
   "outputs": [
    {
     "name": "stderr",
     "output_type": "stream",
     "text": [
      "/Users/kevin/Library/Python/3.9/lib/python/site-packages/torch/utils/data/dataloader.py:684: UserWarning: 'pin_memory' argument is set as true but not supported on MPS now, then device pinned memory won't be used.\n",
      "  warnings.warn(warn_msg)\n"
     ]
    },
    {
     "data": {
      "text/html": [],
      "text/plain": [
       "<IPython.core.display.HTML object>"
      ]
     },
     "metadata": {},
     "output_type": "display_data"
    },
    {
     "name": "stdout",
     "output_type": "stream",
     "text": [
      "\n",
      "Validation metrics: {'eval_loss': 0.5650809407234192, 'eval_accuracy': 0.7750257997936016, 'eval_f1': 0.7396973243949443, 'eval_runtime': 6.8248, 'eval_samples_per_second': 141.983, 'eval_steps_per_second': 4.542, 'epoch': 10.0}\n"
     ]
    },
    {
     "name": "stderr",
     "output_type": "stream",
     "text": [
      "/Users/kevin/Library/Python/3.9/lib/python/site-packages/torch/utils/data/dataloader.py:684: UserWarning: 'pin_memory' argument is set as true but not supported on MPS now, then device pinned memory won't be used.\n",
      "  warnings.warn(warn_msg)\n"
     ]
    },
    {
     "name": "stdout",
     "output_type": "stream",
     "text": [
      "\n",
      "Detailed classification report on test set:\n",
      "              precision    recall  f1-score   support\n",
      "\n",
      "         NEG       0.68      0.70      0.69       115\n",
      "         NEU       0.87      0.81      0.84       569\n",
      "         POS       0.66      0.74      0.69       285\n",
      "\n",
      "    accuracy                           0.78       969\n",
      "   macro avg       0.73      0.75      0.74       969\n",
      "weighted avg       0.78      0.78      0.78       969\n",
      "\n"
     ]
    }
   ],
   "source": [
    "# %% Evaluate on the test dataset\n",
    "# This will compute metrics using your compute_metrics function\n",
    "metrics = trainer.evaluate(eval_dataset=test_dataset)\n",
    "print(\"\\nValidation metrics:\", metrics)\n",
    "\n",
    "# Detailed classification report\n",
    "predictions_output = trainer.predict(test_dataset)\n",
    "logits = predictions_output.predictions\n",
    "y_true = predictions_output.label_ids\n",
    "y_pred = logits.argmax(axis=-1)\n",
    "\n",
    "print(\"\\nDetailed classification report on test set:\")\n",
    "print(classification_report(y_true, y_pred, target_names=[\"NEG\", \"NEU\", \"POS\"]))"
   ]
  },
  {
   "cell_type": "code",
   "execution_count": 93,
   "id": "9c4d6d93",
   "metadata": {},
   "outputs": [],
   "source": [
    "# metrics = trainer.evaluate()\n",
    "# print(\"Validation metrics:\", metrics)\n",
    "# print(\"\\nDetailed classification report on validation set:\")\n",
    "# val_logits = trainer.predict(val_dataset).predictions\n",
    "# val_preds = val_logits.argmax(axis=-1)\n",
    "# print(classification_report(val_labels, val_preds))\n",
    "\n",
    "# # 10) Save fine-tuned model and tokenizer\n",
    "# trainer.save_model(output_dir)\n",
    "# tokenizer.save_pretrained(output_dir)\n",
    "\n",
    "# print(f\"\\nSaved fine-tuned model to: {output_dir}\")"
   ]
  }
 ],
 "metadata": {
  "kernelspec": {
   "display_name": "Python 3",
   "language": "python",
   "name": "python3"
  },
  "language_info": {
   "codemirror_mode": {
    "name": "ipython",
    "version": 3
   },
   "file_extension": ".py",
   "mimetype": "text/x-python",
   "name": "python",
   "nbconvert_exporter": "python",
   "pygments_lexer": "ipython3",
   "version": "3.9.6"
  }
 },
 "nbformat": 4,
 "nbformat_minor": 5
}
